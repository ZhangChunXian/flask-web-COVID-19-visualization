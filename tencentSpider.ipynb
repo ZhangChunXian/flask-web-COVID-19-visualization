{
 "cells": [
  {
   "cell_type": "markdown",
   "metadata": {},
   "source": [
    "# 1 爬取腾讯的疫情数据"
   ]
  },
  {
   "cell_type": "code",
   "execution_count": 3,
   "metadata": {},
   "outputs": [],
   "source": [
    "import requests\n",
    "import json\n",
    "\n",
    "url = \"https://view.inews.qq.com/g2/getOnsInfo?name=disease_other\"\n",
    "res = requests.get(url)\n",
    "d = json.loads(res.text)    # 从字符串转换为字典\n",
    "\n",
    "data_all = json.loads(d[\"data\"])    # 取出总数据作为字典\n",
    "\n",
    "json_object = json.dumps(data_all, indent = 4)\n",
    "\n",
    "with open(\"data.json\", \"w\", encoding=\"utf8\") as f:\n",
    "    f.write(json_object)"
   ]
  },
  {
   "cell_type": "code",
   "execution_count": 4,
   "metadata": {},
   "outputs": [
    {
     "data": {
      "text/plain": [
       "dict_keys(['cityStatis', 'chinaDayList', 'chinaDayAddList', 'provinceCompare', 'nowConfirmStatis', 'statisGradeCityDetail', 'dailyNewAddHistory', 'dailyHistory', 'wuhanDayList', 'articleList'])"
      ]
     },
     "execution_count": 4,
     "metadata": {},
     "output_type": "execute_result"
    }
   ],
   "source": [
    "data_all.keys()"
   ]
  },
  {
   "cell_type": "code",
   "execution_count": 5,
   "metadata": {},
   "outputs": [
    {
     "name": "stdout",
     "output_type": "stream",
     "text": [
      "{'confirm': 343, 'zeroNowConfirm': 311, 'notZeroNowConfirm': 32}\n"
     ]
    }
   ],
   "source": [
    "print(data_all[\"cityStatis\"])"
   ]
  }
 ],
 "metadata": {
  "interpreter": {
   "hash": "3dd0a721c6143eff77a109eb36db44bfb85de6fa95a609b4b45c33655d4e1df8"
  },
  "kernelspec": {
   "display_name": "Python 3.8.12 64-bit ('spider': conda)",
   "language": "python",
   "name": "python3"
  },
  "language_info": {
   "codemirror_mode": {
    "name": "ipython",
    "version": 3
   },
   "file_extension": ".py",
   "mimetype": "text/x-python",
   "name": "python",
   "nbconvert_exporter": "python",
   "pygments_lexer": "ipython3",
   "version": "3.8.12"
  },
  "orig_nbformat": 4
 },
 "nbformat": 4,
 "nbformat_minor": 2
}
